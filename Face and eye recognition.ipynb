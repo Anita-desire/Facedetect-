{
 "cells": [
  {
   "cell_type": "code",
   "execution_count": 1,
   "id": "98b4b678",
   "metadata": {},
   "outputs": [
    {
     "name": "stdout",
     "output_type": "stream",
     "text": [
      "Requirement already satisfied: opencv-python in c:\\users\\eduko\\anaconda3\\lib\\site-packages (4.5.5.64)\n",
      "Requirement already satisfied: numpy>=1.14.5 in c:\\users\\eduko\\anaconda3\\lib\\site-packages (from opencv-python) (1.20.3)\n"
     ]
    }
   ],
   "source": [
    "!pip install opencv-python"
   ]
  },
  {
   "cell_type": "code",
   "execution_count": 3,
   "id": "b1320d83",
   "metadata": {},
   "outputs": [],
   "source": [
    "import cv2\n",
    "\n",
    "\n",
    "img = cv2.imread(\"C.jpg\")\n",
    "#img = cv2.imread(\"class1.jpg\")\n",
    "#img = cv2.imread(\"smile.jpg\")\n",
    "#img = cv2.imread(\"group.jpg\")\n",
    "\n",
    "gray_img=cv2.cvtColor(img,cv2.COLOR_BGR2GRAY)\n",
    "\n",
    "face_cascade=cv2.CascadeClassifier(\"haarcascade_frontalface_default.xml\") \n",
    "faces=face_cascade.detectMultiScale(gray_img, scaleFactor=1.05,minNeighbors=5)\n",
    "\n",
    "for x, y, w, h in faces:\n",
    "    img=cv2.rectangle(img,(x,y),(x+w,y+h),(255,255,0),3)\n",
    "    \n",
    "eye_cascade=cv2.CascadeClassifier(\"eye.xml\") \n",
    "eyes=eye_cascade.detectMultiScale(gray_img, scaleFactor=1.05,minNeighbors=5)\n",
    "\n",
    "for x, y, w, h in eyes:\n",
    "    img=cv2.rectangle(img,(x,y),(x+w,y+h),(0,255,0),3)\n",
    "\n",
    "#resized=cv2.resize(img,(int(img.shape[1]/3), int(img.shape[0]/3)))\n",
    "\n",
    "cv2.imshow(\"Face&Eye recognition\", img)\n",
    "cv2.waitKey(0)  \n",
    "\n",
    "cv2.destroyAllWindows()"
   ]
  },
  {
   "cell_type": "code",
   "execution_count": null,
   "id": "57f87885",
   "metadata": {},
   "outputs": [],
   "source": []
  },
  {
   "cell_type": "code",
   "execution_count": null,
   "id": "d58421b7",
   "metadata": {},
   "outputs": [],
   "source": []
  }
 ],
 "metadata": {
  "kernelspec": {
   "display_name": "Python 3 (ipykernel)",
   "language": "python",
   "name": "python3"
  },
  "language_info": {
   "codemirror_mode": {
    "name": "ipython",
    "version": 3
   },
   "file_extension": ".py",
   "mimetype": "text/x-python",
   "name": "python",
   "nbconvert_exporter": "python",
   "pygments_lexer": "ipython3",
   "version": "3.9.7"
  }
 },
 "nbformat": 4,
 "nbformat_minor": 5
}
